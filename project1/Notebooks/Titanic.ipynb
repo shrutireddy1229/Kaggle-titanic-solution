{
 "cells": [
  {
   "cell_type": "code",
   "execution_count": null,
   "id": "745f3b27-6353-4c30-b3a5-067524875851",
   "metadata": {},
   "outputs": [],
   "source": []
  }
 ],
 "metadata": {
  "kernelspec": {
   "display_name": "",
   "name": ""
  },
  "language_info": {
   "name": ""
  }
 },
 "nbformat": 4,
 "nbformat_minor": 5
}
